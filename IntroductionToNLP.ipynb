{
  "nbformat": 4,
  "nbformat_minor": 0,
  "metadata": {
    "colab": {
      "name": "IntroductionToNLP.ipynb",
      "provenance": [],
      "collapsed_sections": []
    },
    "kernelspec": {
      "name": "python3",
      "display_name": "Python 3"
    }
  },
  "cells": [
    {
      "cell_type": "code",
      "metadata": {
        "id": "w4g_IGT-sFo8",
        "colab_type": "code",
        "colab": {}
      },
      "source": [
        "import io\n",
        "import numpy as np\n",
        "import pandas as pd\n",
        "import seaborn as sns\n",
        "import matplotlib.pyplot as plt"
      ],
      "execution_count": 0,
      "outputs": []
    },
    {
      "cell_type": "markdown",
      "metadata": {
        "id": "Ndsn98vjaoIa",
        "colab_type": "text"
      },
      "source": [
        "# Important Instructions\n",
        "\n",
        "### 1. Copy the dataset to your Google Drive\n",
        "### 2. Mount Google Drive to this notebook\n",
        "### 3. Find the path to the dataset and paste it in the variable path"
      ]
    },
    {
      "cell_type": "markdown",
      "metadata": {
        "id": "dcdlAlEPNB3u",
        "colab_type": "text"
      },
      "source": [
        "# Add path to file"
      ]
    },
    {
      "cell_type": "code",
      "metadata": {
        "id": "M20nmckzNDyw",
        "colab_type": "code",
        "colab": {}
      },
      "source": [
        "path = '/content/drive/My Drive/IntroToNLP/1429_1.csv'"
      ],
      "execution_count": 0,
      "outputs": []
    },
    {
      "cell_type": "markdown",
      "metadata": {
        "id": "V-958yJii6Ju",
        "colab_type": "text"
      },
      "source": [
        "## Check if file exists"
      ]
    },
    {
      "cell_type": "code",
      "metadata": {
        "id": "RRgfjYJduWlq",
        "colab_type": "code",
        "colab": {}
      },
      "source": [
        "import os\n",
        "os.path.exists(path)"
      ],
      "execution_count": 0,
      "outputs": []
    },
    {
      "cell_type": "markdown",
      "metadata": {
        "id": "CiMO161JjAG4",
        "colab_type": "text"
      },
      "source": [
        "## Read the dataset"
      ]
    },
    {
      "cell_type": "code",
      "metadata": {
        "id": "kmRHzkATudOa",
        "colab_type": "code",
        "colab": {}
      },
      "source": [
        "review_data = pd.read_csv(path)"
      ],
      "execution_count": 0,
      "outputs": []
    },
    {
      "cell_type": "markdown",
      "metadata": {
        "id": "Yk0sBC4TjHuF",
        "colab_type": "text"
      },
      "source": [
        "## Quickly take a peek at the dataset"
      ]
    },
    {
      "cell_type": "code",
      "metadata": {
        "id": "gAq-GscrwBjz",
        "colab_type": "code",
        "colab": {}
      },
      "source": [
        "review_data.head()"
      ],
      "execution_count": 0,
      "outputs": []
    },
    {
      "cell_type": "markdown",
      "metadata": {
        "id": "RyAQ_yApjQvI",
        "colab_type": "text"
      },
      "source": [
        "## What are the columns in the dataframe?"
      ]
    },
    {
      "cell_type": "code",
      "metadata": {
        "id": "49b3aIfS1eys",
        "colab_type": "code",
        "colab": {}
      },
      "source": [
        "review_data.columns"
      ],
      "execution_count": 0,
      "outputs": []
    },
    {
      "cell_type": "markdown",
      "metadata": {
        "id": "PkpV5EnGjWgf",
        "colab_type": "text"
      },
      "source": [
        "## Select the review and the rating"
      ]
    },
    {
      "cell_type": "code",
      "metadata": {
        "id": "cj5f2Lqe2wCP",
        "colab_type": "code",
        "colab": {}
      },
      "source": [
        "data = review_data[['reviews.text','reviews.rating']]"
      ],
      "execution_count": 0,
      "outputs": []
    },
    {
      "cell_type": "markdown",
      "metadata": {
        "id": "6qAMtspZja-U",
        "colab_type": "text"
      },
      "source": [
        "## Take a quick peek at the modified dataframe"
      ]
    },
    {
      "cell_type": "code",
      "metadata": {
        "id": "KYU-JenS4AC4",
        "colab_type": "code",
        "colab": {}
      },
      "source": [
        "data.tail()"
      ],
      "execution_count": 0,
      "outputs": []
    },
    {
      "cell_type": "markdown",
      "metadata": {
        "id": "txqtAyunjvgP",
        "colab_type": "text"
      },
      "source": [
        "## Check for null values"
      ]
    },
    {
      "cell_type": "code",
      "metadata": {
        "id": "_UO8DA_e4NWk",
        "colab_type": "code",
        "colab": {}
      },
      "source": [
        "null_text = data[data['reviews.text'].isnull()]"
      ],
      "execution_count": 0,
      "outputs": []
    },
    {
      "cell_type": "code",
      "metadata": {
        "id": "qLNOreCz5O6c",
        "colab_type": "code",
        "colab": {}
      },
      "source": [
        "null_text"
      ],
      "execution_count": 0,
      "outputs": []
    },
    {
      "cell_type": "code",
      "metadata": {
        "id": "imWF1PiNF2Eq",
        "colab_type": "code",
        "colab": {}
      },
      "source": [
        "null_rating = data[data['reviews.rating'].isnull()]"
      ],
      "execution_count": 0,
      "outputs": []
    },
    {
      "cell_type": "code",
      "metadata": {
        "id": "4yFV5JTrF5tv",
        "colab_type": "code",
        "colab": {}
      },
      "source": [
        "null_rating"
      ],
      "execution_count": 0,
      "outputs": []
    },
    {
      "cell_type": "markdown",
      "metadata": {
        "id": "KJ0fJtjHk0YU",
        "colab_type": "text"
      },
      "source": [
        "## Handle Null values"
      ]
    },
    {
      "cell_type": "code",
      "metadata": {
        "id": "0Y3XTC_U5QbH",
        "colab_type": "code",
        "colab": {}
      },
      "source": [
        "data = data.dropna()"
      ],
      "execution_count": 0,
      "outputs": []
    },
    {
      "cell_type": "code",
      "metadata": {
        "id": "RoVzy65M5ePM",
        "colab_type": "code",
        "colab": {}
      },
      "source": [
        "data = data[(data['reviews.rating'] < 4) | (data['reviews.rating'] == 5)].reset_index()"
      ],
      "execution_count": 0,
      "outputs": []
    },
    {
      "cell_type": "markdown",
      "metadata": {
        "id": "M3ZdHI6Hk3e_",
        "colab_type": "text"
      },
      "source": [
        "## Check the distribution of data"
      ]
    },
    {
      "cell_type": "code",
      "metadata": {
        "id": "bx1KMCSXuxFd",
        "colab_type": "code",
        "colab": {}
      },
      "source": [
        "count = data['reviews.rating'].value_counts()"
      ],
      "execution_count": 0,
      "outputs": []
    },
    {
      "cell_type": "code",
      "metadata": {
        "id": "rPFu71qLvT8D",
        "colab_type": "code",
        "colab": {}
      },
      "source": [
        "x = list(count.index)\n",
        "y = list(count.values)\n",
        "sns.barplot(x,y)"
      ],
      "execution_count": 0,
      "outputs": []
    },
    {
      "cell_type": "markdown",
      "metadata": {
        "id": "ixt0RIxek8u8",
        "colab_type": "text"
      },
      "source": [
        "## Percentage of positive review"
      ]
    },
    {
      "cell_type": "code",
      "metadata": {
        "id": "gokjNXxhKJ-3",
        "colab_type": "code",
        "colab": {}
      },
      "source": [
        "print(\"Percentage of positive reiview is {}\".format((count[5.0]/count.sum())*100))"
      ],
      "execution_count": 0,
      "outputs": []
    },
    {
      "cell_type": "markdown",
      "metadata": {
        "id": "tkdABf0plneM",
        "colab_type": "text"
      },
      "source": [
        "# Preprocess text"
      ]
    },
    {
      "cell_type": "markdown",
      "metadata": {
        "id": "yn6zAazKNnHB",
        "colab_type": "text"
      },
      "source": [
        "1. Tokenize the sentence\n",
        "2. Remove words like 'is','be','a'\n",
        "3. Remove punctuation like ',' ,'@'\n",
        "4. Convert words to lowercase"
      ]
    },
    {
      "cell_type": "code",
      "metadata": {
        "id": "ZArktodE5ybS",
        "colab_type": "code",
        "colab": {}
      },
      "source": [
        "sample = data['reviews.text'][0]"
      ],
      "execution_count": 0,
      "outputs": []
    },
    {
      "cell_type": "code",
      "metadata": {
        "id": "IRPB2b8hGFM9",
        "colab_type": "code",
        "colab": {}
      },
      "source": [
        "print(sample)"
      ],
      "execution_count": 0,
      "outputs": []
    },
    {
      "cell_type": "markdown",
      "metadata": {
        "id": "RMijeC9al_rM",
        "colab_type": "text"
      },
      "source": [
        "# Natural Language Toolkit (Nltk)"
      ]
    },
    {
      "cell_type": "code",
      "metadata": {
        "id": "qrm-XzNuKejD",
        "colab_type": "code",
        "colab": {}
      },
      "source": [
        "import nltk\n",
        "nltk.download('punkt')\n",
        "nltk.download('wordnet')"
      ],
      "execution_count": 0,
      "outputs": []
    },
    {
      "cell_type": "markdown",
      "metadata": {
        "id": "D4nEDTWwmJlc",
        "colab_type": "text"
      },
      "source": [
        "## Tokenizing"
      ]
    },
    {
      "cell_type": "code",
      "metadata": {
        "id": "jBclvqAtGLWP",
        "colab_type": "code",
        "colab": {}
      },
      "source": [
        "from nltk.tokenize import word_tokenize"
      ],
      "execution_count": 0,
      "outputs": []
    },
    {
      "cell_type": "code",
      "metadata": {
        "id": "biapjn1vKJGy",
        "colab_type": "code",
        "colab": {}
      },
      "source": [
        "sample = word_tokenize(sample)"
      ],
      "execution_count": 0,
      "outputs": []
    },
    {
      "cell_type": "code",
      "metadata": {
        "id": "LQZv091SN2xm",
        "colab_type": "code",
        "colab": {}
      },
      "source": [
        "print(sample)"
      ],
      "execution_count": 0,
      "outputs": []
    },
    {
      "cell_type": "markdown",
      "metadata": {
        "id": "sZc2fk2omNnP",
        "colab_type": "text"
      },
      "source": [
        "## Removing stop words"
      ]
    },
    {
      "cell_type": "code",
      "metadata": {
        "id": "IuNa1M_KLlM9",
        "colab_type": "code",
        "colab": {}
      },
      "source": [
        "from nltk.corpus import stopwords"
      ],
      "execution_count": 0,
      "outputs": []
    },
    {
      "cell_type": "code",
      "metadata": {
        "id": "3xNG2388MOny",
        "colab_type": "code",
        "colab": {}
      },
      "source": [
        "nltk.download('stopwords')"
      ],
      "execution_count": 0,
      "outputs": []
    },
    {
      "cell_type": "code",
      "metadata": {
        "id": "dU5k5TcRMG-5",
        "colab_type": "code",
        "colab": {}
      },
      "source": [
        "stop_words = set(stopwords.words('english'))\n",
        "stop_words.remove('not')"
      ],
      "execution_count": 0,
      "outputs": []
    },
    {
      "cell_type": "markdown",
      "metadata": {
        "id": "b-JbZS-7mVvp",
        "colab_type": "text"
      },
      "source": [
        "## What are the stop words?"
      ]
    },
    {
      "cell_type": "code",
      "metadata": {
        "id": "JzawsbKImdgn",
        "colab_type": "code",
        "colab": {}
      },
      "source": [
        "print(stop_words)"
      ],
      "execution_count": 0,
      "outputs": []
    },
    {
      "cell_type": "markdown",
      "metadata": {
        "id": "ngfhJZvfmuQT",
        "colab_type": "text"
      },
      "source": [
        "## Use a for loop"
      ]
    },
    {
      "cell_type": "code",
      "metadata": {
        "id": "uAKBiTmRLlfA",
        "colab_type": "code",
        "colab": {}
      },
      "source": [
        "output = []\n",
        "for word in sample:\n",
        "  if word not in stop_words:\n",
        "    output.append(word)"
      ],
      "execution_count": 0,
      "outputs": []
    },
    {
      "cell_type": "code",
      "metadata": {
        "id": "QdG0M1wVOLkE",
        "colab_type": "code",
        "colab": {}
      },
      "source": [
        "print(output)"
      ],
      "execution_count": 0,
      "outputs": []
    },
    {
      "cell_type": "markdown",
      "metadata": {
        "id": "2CMGsHhgmxwX",
        "colab_type": "text"
      },
      "source": [
        "## Use list comprehension"
      ]
    },
    {
      "cell_type": "code",
      "metadata": {
        "id": "RE9p5rbzMcN4",
        "colab_type": "code",
        "colab": {}
      },
      "source": [
        "sample = [word for word  in sample if word.lower() not in stop_words]"
      ],
      "execution_count": 0,
      "outputs": []
    },
    {
      "cell_type": "markdown",
      "metadata": {
        "id": "ipzRJ9a7m9Lp",
        "colab_type": "text"
      },
      "source": [
        "# Remove punctuations"
      ]
    },
    {
      "cell_type": "code",
      "metadata": {
        "id": "FMHqgXoKMyg2",
        "colab_type": "code",
        "colab": {}
      },
      "source": [
        "import string"
      ],
      "execution_count": 0,
      "outputs": []
    },
    {
      "cell_type": "code",
      "metadata": {
        "id": "lkWS7J2oNHwu",
        "colab_type": "code",
        "colab": {}
      },
      "source": [
        "print(string.punctuation)"
      ],
      "execution_count": 0,
      "outputs": []
    },
    {
      "cell_type": "markdown",
      "metadata": {
        "id": "GxEzBUEWnFw1",
        "colab_type": "text"
      },
      "source": [
        "## How to use it"
      ]
    },
    {
      "cell_type": "code",
      "metadata": {
        "id": "KSF1cVn0M9Ok",
        "colab_type": "code",
        "colab": {}
      },
      "source": [
        "',' in string.punctuation"
      ],
      "execution_count": 0,
      "outputs": []
    },
    {
      "cell_type": "code",
      "metadata": {
        "id": "vD6sdeCdNK8P",
        "colab_type": "code",
        "colab": {}
      },
      "source": [
        "sample = [word for word in sample if word not in string.punctuation]"
      ],
      "execution_count": 0,
      "outputs": []
    },
    {
      "cell_type": "code",
      "metadata": {
        "id": "Mvb9jawCPmil",
        "colab_type": "code",
        "colab": {}
      },
      "source": [
        "print(sample)"
      ],
      "execution_count": 0,
      "outputs": []
    },
    {
      "cell_type": "markdown",
      "metadata": {
        "id": "aS2-Nv93nM4n",
        "colab_type": "text"
      },
      "source": [
        "# Stemming the words"
      ]
    },
    {
      "cell_type": "code",
      "metadata": {
        "id": "vL9imIxAKLky",
        "colab_type": "code",
        "colab": {}
      },
      "source": [
        "from nltk.stem import PorterStemmer"
      ],
      "execution_count": 0,
      "outputs": []
    },
    {
      "cell_type": "code",
      "metadata": {
        "id": "_FdAcE9HKlpI",
        "colab_type": "code",
        "colab": {}
      },
      "source": [
        "stemmer = PorterStemmer()"
      ],
      "execution_count": 0,
      "outputs": []
    },
    {
      "cell_type": "code",
      "metadata": {
        "id": "JQ_-2AmBK-s3",
        "colab_type": "code",
        "colab": {}
      },
      "source": [
        "output = []\n",
        "for word in sample:\n",
        "  output.append(stemmer.stem(word))"
      ],
      "execution_count": 0,
      "outputs": []
    },
    {
      "cell_type": "code",
      "metadata": {
        "id": "l-5cXBbKPtiO",
        "colab_type": "code",
        "colab": {}
      },
      "source": [
        "print(output)"
      ],
      "execution_count": 0,
      "outputs": []
    },
    {
      "cell_type": "markdown",
      "metadata": {
        "id": "NoMXvYELOMan",
        "colab_type": "text"
      },
      "source": [
        "# Lemmatizing the words"
      ]
    },
    {
      "cell_type": "code",
      "metadata": {
        "id": "4fbuolQBOLb4",
        "colab_type": "code",
        "colab": {}
      },
      "source": [
        "from nltk.stem import WordNetLemmatizer \n",
        "  \n",
        "lemmatizer = WordNetLemmatizer() "
      ],
      "execution_count": 0,
      "outputs": []
    },
    {
      "cell_type": "code",
      "metadata": {
        "id": "vEmYG24DOag3",
        "colab_type": "code",
        "colab": {}
      },
      "source": [
        "output = []\n",
        "for word in sample:\n",
        "  output.append(lemmatizer.lemmatize(word))"
      ],
      "execution_count": 0,
      "outputs": []
    },
    {
      "cell_type": "code",
      "metadata": {
        "id": "zFJEYWThOju6",
        "colab_type": "code",
        "colab": {}
      },
      "source": [
        "print(output)"
      ],
      "execution_count": 0,
      "outputs": []
    },
    {
      "cell_type": "markdown",
      "metadata": {
        "id": "HVuxP2sWpDya",
        "colab_type": "text"
      },
      "source": [
        "# Combine the functions together"
      ]
    },
    {
      "cell_type": "code",
      "metadata": {
        "id": "okNcnrxOLeWJ",
        "colab_type": "code",
        "colab": {}
      },
      "source": [
        "def preprocess(sentence):\n",
        "  tokens = word_tokenize(sentence)\n",
        "  tokens = [word.lower() for word in tokens if word not in stop_words]\n",
        "  tokens = [word for word in tokens if word not in string.punctuation]\n",
        "  tokens = [word for word in tokens if word.isalpha()]\n",
        "  tokens = [lemmatizer.lemmatize(word) for word in tokens]\n",
        "  tokens = [word for word in tokens if len(word)>1]\n",
        "  return \" \".join(tokens)"
      ],
      "execution_count": 0,
      "outputs": []
    },
    {
      "cell_type": "code",
      "metadata": {
        "id": "IGI_ILk1ey6q",
        "colab_type": "code",
        "colab": {}
      },
      "source": [
        "def convert_rating(rating):\n",
        "  if rating == 5.0:\n",
        "    return 1\n",
        "  else:\n",
        "    return 0"
      ],
      "execution_count": 0,
      "outputs": []
    },
    {
      "cell_type": "markdown",
      "metadata": {
        "id": "ZU6J6--YpPjX",
        "colab_type": "text"
      },
      "source": [
        "# Preprocessing the text in dataset"
      ]
    },
    {
      "cell_type": "code",
      "metadata": {
        "id": "mdBKDSvOaxvf",
        "colab_type": "code",
        "colab": {}
      },
      "source": [
        "X = data['reviews.text'].map(preprocess)\n",
        "y = data['reviews.rating'].map(convert_rating)"
      ],
      "execution_count": 0,
      "outputs": []
    },
    {
      "cell_type": "markdown",
      "metadata": {
        "id": "-bBTcb2HWX13",
        "colab_type": "text"
      },
      "source": [
        "# Visualize the words used in the reviews"
      ]
    },
    {
      "cell_type": "code",
      "metadata": {
        "id": "TZRkg87eaqym",
        "colab_type": "code",
        "colab": {}
      },
      "source": [
        "from wordcloud import WordCloud"
      ],
      "execution_count": 0,
      "outputs": []
    },
    {
      "cell_type": "code",
      "metadata": {
        "id": "t_kUFJvJa0N-",
        "colab_type": "code",
        "colab": {}
      },
      "source": [
        "pos_text = data[data['reviews.rating']==5.0]['reviews.text']\n",
        "pos_text = ' '.join(pos_text)\n",
        "cloud = WordCloud(width=1600, height=800, max_font_size=200).generate(pos_text)\n",
        "plt.figure(figsize=(12,10))\n",
        "plt.imshow(cloud, interpolation='bilinear')\n",
        "plt.axis(\"off\")\n",
        "plt.show()"
      ],
      "execution_count": 0,
      "outputs": []
    },
    {
      "cell_type": "code",
      "metadata": {
        "id": "n6OeKZtebiMr",
        "colab_type": "code",
        "colab": {}
      },
      "source": [
        "neg_text = data[data['reviews.rating'] < 4]['reviews.text']\n",
        "neg_text = ' '.join(neg_text)\n",
        "cloud = WordCloud(width=1600, height=800, max_font_size=200).generate(neg_text)\n",
        "plt.figure(figsize=(12,10))\n",
        "plt.imshow(cloud, interpolation='bilinear')\n",
        "plt.axis(\"off\")\n",
        "plt.show()"
      ],
      "execution_count": 0,
      "outputs": []
    },
    {
      "cell_type": "markdown",
      "metadata": {
        "id": "mdQmidcdqz0D",
        "colab_type": "text"
      },
      "source": [
        "# Using Word Vectors and Sequence Models"
      ]
    },
    {
      "cell_type": "code",
      "metadata": {
        "id": "0w1WTDxMljnX",
        "colab_type": "code",
        "colab": {}
      },
      "source": [
        "X = data['reviews.text']"
      ],
      "execution_count": 0,
      "outputs": []
    },
    {
      "cell_type": "code",
      "metadata": {
        "id": "5ETRrhwpxsHi",
        "colab_type": "code",
        "colab": {}
      },
      "source": [
        "X = X.map(preprocess)"
      ],
      "execution_count": 0,
      "outputs": []
    },
    {
      "cell_type": "markdown",
      "metadata": {
        "id": "iLQZYsmEq9lL",
        "colab_type": "text"
      },
      "source": [
        "## Tokenize the review text"
      ]
    },
    {
      "cell_type": "code",
      "metadata": {
        "id": "wFxJct8Tlv_S",
        "colab_type": "code",
        "colab": {}
      },
      "source": [
        "import tensorflow as tf"
      ],
      "execution_count": 0,
      "outputs": []
    },
    {
      "cell_type": "code",
      "metadata": {
        "id": "b0hxysV2wkvo",
        "colab_type": "code",
        "colab": {}
      },
      "source": [
        "from tensorflow.keras.preprocessing.text import Tokenizer"
      ],
      "execution_count": 0,
      "outputs": []
    },
    {
      "cell_type": "code",
      "metadata": {
        "id": "thIvuO_mxHB8",
        "colab_type": "code",
        "colab": {}
      },
      "source": [
        "tokenizer = Tokenizer()"
      ],
      "execution_count": 0,
      "outputs": []
    },
    {
      "cell_type": "code",
      "metadata": {
        "id": "gPJe9EuZxMsJ",
        "colab_type": "code",
        "colab": {}
      },
      "source": [
        "tokenizer.fit_on_texts(X)"
      ],
      "execution_count": 0,
      "outputs": []
    },
    {
      "cell_type": "code",
      "metadata": {
        "id": "2kSVdQB_xQo2",
        "colab_type": "code",
        "colab": {}
      },
      "source": [
        "sequence_dict = tokenizer.word_index"
      ],
      "execution_count": 0,
      "outputs": []
    },
    {
      "cell_type": "code",
      "metadata": {
        "id": "DqA5MLUorR12",
        "colab_type": "code",
        "colab": {}
      },
      "source": [
        "sequence_dict"
      ],
      "execution_count": 0,
      "outputs": []
    },
    {
      "cell_type": "code",
      "metadata": {
        "id": "-8ON2823xYSV",
        "colab_type": "code",
        "colab": {}
      },
      "source": [
        "word_dict = dict((num,val) for (val, num) in sequence_dict.items())"
      ],
      "execution_count": 0,
      "outputs": []
    },
    {
      "cell_type": "code",
      "metadata": {
        "id": "dA4SVmoGxgvs",
        "colab_type": "code",
        "colab": {}
      },
      "source": [
        "print(\"The number of words in dictionary is {}\".format(len(word_dict)))"
      ],
      "execution_count": 0,
      "outputs": []
    },
    {
      "cell_type": "markdown",
      "metadata": {
        "id": "_V0XzrmHrvxL",
        "colab_type": "text"
      },
      "source": [
        "## Generate sequences from reviews text"
      ]
    },
    {
      "cell_type": "code",
      "metadata": {
        "id": "pMSbI8CJxhuQ",
        "colab_type": "code",
        "colab": {}
      },
      "source": [
        "sequences  = np.array(tokenizer.texts_to_sequences(X))"
      ],
      "execution_count": 0,
      "outputs": []
    },
    {
      "cell_type": "markdown",
      "metadata": {
        "id": "kVZ27VXAr7JK",
        "colab_type": "text"
      },
      "source": [
        "## What are these sequences"
      ]
    },
    {
      "cell_type": "code",
      "metadata": {
        "id": "dD8jz0un1A3V",
        "colab_type": "code",
        "colab": {}
      },
      "source": [
        "sequences[2]"
      ],
      "execution_count": 0,
      "outputs": []
    },
    {
      "cell_type": "code",
      "metadata": {
        "id": "n5nqvR4qyzti",
        "colab_type": "code",
        "colab": {}
      },
      "source": [
        "' '.join(word_dict[index] for index in sequences[2])"
      ],
      "execution_count": 0,
      "outputs": []
    },
    {
      "cell_type": "markdown",
      "metadata": {
        "id": "uz1gkKOAsCJn",
        "colab_type": "text"
      },
      "source": [
        "## Get the input ready"
      ]
    },
    {
      "cell_type": "code",
      "metadata": {
        "id": "T8KkCglx2yVD",
        "colab_type": "code",
        "colab": {}
      },
      "source": [
        "X = tf.keras.preprocessing.sequence.pad_sequences(sequences, 10, truncating='post')"
      ],
      "execution_count": 0,
      "outputs": []
    },
    {
      "cell_type": "markdown",
      "metadata": {
        "id": "ZAofrPZ9sV2p",
        "colab_type": "text"
      },
      "source": [
        "## Get train and test set"
      ]
    },
    {
      "cell_type": "code",
      "metadata": {
        "id": "sndxrz_w3gg1",
        "colab_type": "code",
        "colab": {}
      },
      "source": [
        "X_train, X_test, y_train, y_test = train_test_split(X,y, test_size=0.1, shuffle=True)"
      ],
      "execution_count": 0,
      "outputs": []
    },
    {
      "cell_type": "markdown",
      "metadata": {
        "id": "s3298woRsaI3",
        "colab_type": "text"
      },
      "source": [
        "# Build a sequence model"
      ]
    },
    {
      "cell_type": "code",
      "metadata": {
        "id": "HF8Kp0dny3e2",
        "colab_type": "code",
        "colab": {}
      },
      "source": [
        "model = tf.keras.models.Sequential()"
      ],
      "execution_count": 0,
      "outputs": []
    },
    {
      "cell_type": "code",
      "metadata": {
        "id": "pHfyWvqt1Yce",
        "colab_type": "code",
        "colab": {}
      },
      "source": [
        "model.add(tf.keras.layers.Embedding(len(word_dict)+1, 10, input_length=10))"
      ],
      "execution_count": 0,
      "outputs": []
    },
    {
      "cell_type": "code",
      "metadata": {
        "id": "iG2zCUs61s6U",
        "colab_type": "code",
        "colab": {}
      },
      "source": [
        "model.add(tf.keras.layers.LSTM(150, return_sequences=True))\n",
        "model.add(tf.keras.layers.LSTM(150, return_sequences=False))"
      ],
      "execution_count": 0,
      "outputs": []
    },
    {
      "cell_type": "code",
      "metadata": {
        "id": "ZC6iwUNY2CwP",
        "colab_type": "code",
        "colab": {}
      },
      "source": [
        "model.add(tf.keras.layers.Dense(100, activation='relu'))"
      ],
      "execution_count": 0,
      "outputs": []
    },
    {
      "cell_type": "code",
      "metadata": {
        "id": "1JfAe_us2Kck",
        "colab_type": "code",
        "colab": {}
      },
      "source": [
        "model.add(tf.keras.layers.Dense(1, activation='sigmoid'))"
      ],
      "execution_count": 0,
      "outputs": []
    },
    {
      "cell_type": "code",
      "metadata": {
        "id": "QJRECHZj2TXC",
        "colab_type": "code",
        "colab": {}
      },
      "source": [
        "print(model.summary())"
      ],
      "execution_count": 0,
      "outputs": []
    },
    {
      "cell_type": "code",
      "metadata": {
        "id": "jFocyN492YyJ",
        "colab_type": "code",
        "colab": {}
      },
      "source": [
        "optimizer = tf.keras.optimizers.Adam(lr=0.0001, decay=0.0001)"
      ],
      "execution_count": 0,
      "outputs": []
    },
    {
      "cell_type": "code",
      "metadata": {
        "id": "UyD7N7Wf2oAa",
        "colab_type": "code",
        "colab": {}
      },
      "source": [
        "model.compile(loss='binary_crossentropy', optimizer=optimizer, metrics=['accuracy'])"
      ],
      "execution_count": 0,
      "outputs": []
    },
    {
      "cell_type": "markdown",
      "metadata": {
        "id": "WJoOCaKKs6Ko",
        "colab_type": "text"
      },
      "source": [
        "# Train the model"
      ]
    },
    {
      "cell_type": "code",
      "metadata": {
        "id": "ODm8gcPA2wrd",
        "colab_type": "code",
        "colab": {}
      },
      "source": [
        "model.fit(X_train, y_train, batch_size=16, epochs=2)"
      ],
      "execution_count": 0,
      "outputs": []
    },
    {
      "cell_type": "markdown",
      "metadata": {
        "id": "plybzEr4s9F_",
        "colab_type": "text"
      },
      "source": [
        "# Test the model"
      ]
    },
    {
      "cell_type": "code",
      "metadata": {
        "id": "7Z4FOZ7RFnM3",
        "colab_type": "code",
        "colab": {}
      },
      "source": [
        "y_pred = model.predict_classes(X_test)"
      ],
      "execution_count": 0,
      "outputs": []
    },
    {
      "cell_type": "code",
      "metadata": {
        "id": "ZKbxrv45F-ad",
        "colab_type": "code",
        "colab": {}
      },
      "source": [
        "accuracy = accuracy_score(y_test, y_pred)"
      ],
      "execution_count": 0,
      "outputs": []
    },
    {
      "cell_type": "code",
      "metadata": {
        "id": "iM3rCUkhGKDv",
        "colab_type": "code",
        "colab": {}
      },
      "source": [
        "print(\"The accuracy of the model is : {}\".format(accuracy))"
      ],
      "execution_count": 0,
      "outputs": []
    },
    {
      "cell_type": "markdown",
      "metadata": {
        "id": "WHAglQXMtCn0",
        "colab_type": "text"
      },
      "source": [
        "# Analyze the performance"
      ]
    },
    {
      "cell_type": "code",
      "metadata": {
        "id": "ybyFZ-TRGUbw",
        "colab_type": "code",
        "colab": {}
      },
      "source": [
        "from sklearn.metrics import confusion_matrix"
      ],
      "execution_count": 0,
      "outputs": []
    },
    {
      "cell_type": "code",
      "metadata": {
        "id": "xeLdjphiYMNu",
        "colab_type": "code",
        "colab": {}
      },
      "source": [
        "cmatrix = confusion_matrix(y_test, y_pred)"
      ],
      "execution_count": 0,
      "outputs": []
    },
    {
      "cell_type": "code",
      "metadata": {
        "id": "VtjzCz-1YX1z",
        "colab_type": "code",
        "colab": {}
      },
      "source": [
        "sns.heatmap(cmatrix,annot=True,annot_kws={\"size\": 16},xticklabels=['Neg','Pos'], yticklabels=['Neg', 'Pos'])\n",
        "plt.show()"
      ],
      "execution_count": 0,
      "outputs": []
    },
    {
      "cell_type": "code",
      "metadata": {
        "id": "dRCAJA6DYebq",
        "colab_type": "code",
        "colab": {}
      },
      "source": [
        "pos_recall = (cmatrix[1][1]/cmatrix[1].sum())"
      ],
      "execution_count": 0,
      "outputs": []
    },
    {
      "cell_type": "code",
      "metadata": {
        "id": "ywGbLwVshz3S",
        "colab_type": "code",
        "colab": {}
      },
      "source": [
        "print(\"The recall for positive reviews is {}\".format(pos_recall))"
      ],
      "execution_count": 0,
      "outputs": []
    },
    {
      "cell_type": "code",
      "metadata": {
        "id": "Tm8mJwMmh5IB",
        "colab_type": "code",
        "colab": {}
      },
      "source": [
        "neg_recall = (cmatrix[0][0]/cmatrix[0].sum())"
      ],
      "execution_count": 0,
      "outputs": []
    },
    {
      "cell_type": "code",
      "metadata": {
        "id": "0oisghoPiC7q",
        "colab_type": "code",
        "colab": {}
      },
      "source": [
        "print(\"The recall for negative reviews is {}\".format(neg_recall))"
      ],
      "execution_count": 0,
      "outputs": []
    },
    {
      "cell_type": "markdown",
      "metadata": {
        "id": "okO-ZzONtrUn",
        "colab_type": "text"
      },
      "source": [
        "## Calculate the precision"
      ]
    },
    {
      "cell_type": "code",
      "metadata": {
        "id": "T15Jh-wwb1kD",
        "colab_type": "code",
        "colab": {}
      },
      "source": [
        "from sklearn.metrics import precision_score\n",
        "from sklearn.metrics import recall_score"
      ],
      "execution_count": 0,
      "outputs": []
    },
    {
      "cell_type": "code",
      "metadata": {
        "id": "sWJ-zJjAeco1",
        "colab_type": "code",
        "colab": {}
      },
      "source": [
        "pos_precision = precision_score(y_test, y_pred)"
      ],
      "execution_count": 0,
      "outputs": []
    },
    {
      "cell_type": "code",
      "metadata": {
        "id": "MGbvakV-epgj",
        "colab_type": "code",
        "colab": {}
      },
      "source": [
        "print(\"The precision for positive review is {}\".format(pos_precision))"
      ],
      "execution_count": 0,
      "outputs": []
    },
    {
      "cell_type": "code",
      "metadata": {
        "id": "ABA4V7mqeqvL",
        "colab_type": "code",
        "colab": {}
      },
      "source": [
        "neg_precision = precision_score(y_test, y_pred, pos_label=0)"
      ],
      "execution_count": 0,
      "outputs": []
    },
    {
      "cell_type": "code",
      "metadata": {
        "id": "SvX7_bSRhUoa",
        "colab_type": "code",
        "colab": {}
      },
      "source": [
        "print(\"The precision for negative review is {}\".format(neg_precision))"
      ],
      "execution_count": 0,
      "outputs": []
    }
  ]
}